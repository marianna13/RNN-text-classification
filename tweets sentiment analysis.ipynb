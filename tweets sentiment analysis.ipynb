{
 "cells": [
  {
   "cell_type": "markdown",
   "metadata": {},
   "source": [
    "# Sentiment analysis on airlines tweets with Recurret Neural Network\n",
    "For this model I used \n",
    "__[Twitter US Airline Sentiment Dataset](https://www.kaggle.com/crowdflower/twitter-airline-sentiment)__"
   ]
  },
  {
   "cell_type": "code",
   "execution_count": 13,
   "metadata": {
    "scrolled": false
   },
   "outputs": [],
   "source": [
    "import pandas as pd\n",
    "import numpy as np\n",
    "import keras\n",
    "from keras import layers\n",
    "from sklearn.preprocessing import LabelEncoder\n",
    "from utils import train_test_split, to_sequences"
   ]
  },
  {
   "cell_type": "code",
   "execution_count": 4,
   "metadata": {
    "scrolled": true
   },
   "outputs": [],
   "source": [
    "# read the data from file\n",
    "tweets = pd.read_csv('data/Tweets.csv')\n",
    "X = tweets['text']\n",
    "y = tweets['airline_sentiment']"
   ]
  },
  {
   "cell_type": "code",
   "execution_count": 5,
   "metadata": {},
   "outputs": [
    {
     "data": {
      "text/html": [
       "<div>\n",
       "<style scoped>\n",
       "    .dataframe tbody tr th:only-of-type {\n",
       "        vertical-align: middle;\n",
       "    }\n",
       "\n",
       "    .dataframe tbody tr th {\n",
       "        vertical-align: top;\n",
       "    }\n",
       "\n",
       "    .dataframe thead th {\n",
       "        text-align: right;\n",
       "    }\n",
       "</style>\n",
       "<table border=\"1\" class=\"dataframe\">\n",
       "  <thead>\n",
       "    <tr style=\"text-align: right;\">\n",
       "      <th></th>\n",
       "      <th>0</th>\n",
       "    </tr>\n",
       "  </thead>\n",
       "  <tbody>\n",
       "    <tr>\n",
       "      <th>0</th>\n",
       "      <td>1</td>\n",
       "    </tr>\n",
       "    <tr>\n",
       "      <th>1</th>\n",
       "      <td>2</td>\n",
       "    </tr>\n",
       "    <tr>\n",
       "      <th>2</th>\n",
       "      <td>1</td>\n",
       "    </tr>\n",
       "    <tr>\n",
       "      <th>3</th>\n",
       "      <td>0</td>\n",
       "    </tr>\n",
       "    <tr>\n",
       "      <th>4</th>\n",
       "      <td>0</td>\n",
       "    </tr>\n",
       "  </tbody>\n",
       "</table>\n",
       "</div>"
      ],
      "text/plain": [
       "   0\n",
       "0  1\n",
       "1  2\n",
       "2  1\n",
       "3  0\n",
       "4  0"
      ]
     },
     "execution_count": 5,
     "metadata": {},
     "output_type": "execute_result"
    }
   ],
   "source": [
    "# encode labels\n",
    "enc = LabelEncoder()\n",
    "y = pd.DataFrame(enc.fit_transform(y))\n",
    "y.head()"
   ]
  },
  {
   "cell_type": "code",
   "execution_count": 6,
   "metadata": {},
   "outputs": [],
   "source": [
    "# create pandas dataframe from tweets and labels for future splitting\n",
    "data = pd.concat([X,y], axis=1)\n",
    "train_data, test_data = train_test_split(data, test_size=0.2,random_state=13)"
   ]
  },
  {
   "cell_type": "code",
   "execution_count": 9,
   "metadata": {},
   "outputs": [],
   "source": [
    "maxlen  = 30\n",
    "X_train_raw = train_data['text']\n",
    "X_test_raw = test_data['text']\n",
    "\n",
    "y_train = np.array(train_data[0])\n",
    "y_test = np.array(test_data[0])\n",
    "\n",
    "# tokenize text and apply padding\n",
    "X_train, X_test, vocab_size = to_sequences(X_train_raw,X_test_raw, maxlen)\n"
   ]
  },
  {
   "cell_type": "code",
   "execution_count": 10,
   "metadata": {},
   "outputs": [],
   "source": [
    "def build_model(vocab_size, maxlen):\n",
    "    \n",
    "    model = keras.Sequential()\n",
    "    \n",
    "    model.add(layers.Embedding(vocab_size,256,input_length=maxlen))\n",
    "    \n",
    "    model.add(layers.LSTM(32, recurrent_dropout=0.3))\n",
    "    \n",
    "    model.add(layers.Dense(64, activation='relu'))\n",
    "    model.add(layers.Dropout(0.5))\n",
    "    \n",
    "    model.add(layers.Dense(3,activation='softmax'))\n",
    "    \n",
    "    return model"
   ]
  },
  {
   "cell_type": "code",
   "execution_count": 15,
   "metadata": {},
   "outputs": [],
   "source": [
    "model = build_model(vocab_size, maxlen)\n",
    "\n",
    "model.compile(loss='sparse_categorical_crossentropy',\n",
    "              optimizer=keras.optimizers.Adam(lr=0.001),metrics=['accuracy'])"
   ]
  },
  {
   "cell_type": "code",
   "execution_count": 16,
   "metadata": {},
   "outputs": [
    {
     "name": "stdout",
     "output_type": "stream",
     "text": [
      "Train on 11712 samples, validate on 2928 samples\n",
      "Epoch 1/5\n",
      "11712/11712 [==============================] - 75s 6ms/step - loss: 0.8437 - acc: 0.6436 - val_loss: 0.6560 - val_acc: 0.6916\n",
      "Epoch 2/5\n",
      "11712/11712 [==============================] - 82s 7ms/step - loss: 0.6203 - acc: 0.7224 - val_loss: 0.6148 - val_acc: 0.7387\n",
      "Epoch 3/5\n",
      "11712/11712 [==============================] - 70s 6ms/step - loss: 0.4914 - acc: 0.7919 - val_loss: 0.5995 - val_acc: 0.7739\n",
      "Epoch 4/5\n",
      "11712/11712 [==============================] - 73s 6ms/step - loss: 0.3779 - acc: 0.8646 - val_loss: 0.6009 - val_acc: 0.7903\n",
      "Epoch 5/5\n",
      "11712/11712 [==============================] - 82s 7ms/step - loss: 0.2776 - acc: 0.9127 - val_loss: 0.6916 - val_acc: 0.7838\n"
     ]
    }
   ],
   "source": [
    "history = model.fit(X_train, y_train, epochs=5,verbose=1,validation_data=(X_test,y_test),batch_size=64)"
   ]
  },
  {
   "cell_type": "code",
   "execution_count": null,
   "metadata": {},
   "outputs": [],
   "source": []
  }
 ],
 "metadata": {
  "kernelspec": {
   "display_name": "Python 3",
   "language": "python",
   "name": "python3"
  },
  "language_info": {
   "codemirror_mode": {
    "name": "ipython",
    "version": 3
   },
   "file_extension": ".py",
   "mimetype": "text/x-python",
   "name": "python",
   "nbconvert_exporter": "python",
   "pygments_lexer": "ipython3",
   "version": "3.6.9"
  }
 },
 "nbformat": 4,
 "nbformat_minor": 4
}
